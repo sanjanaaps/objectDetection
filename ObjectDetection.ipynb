{
  "cells": [
    {
      "cell_type": "markdown",
      "metadata": {
        "id": "view-in-github",
        "colab_type": "text"
      },
      "source": [
        "<a href=\"https://colab.research.google.com/github/sanjanaaps/objectDetection/blob/main/ObjectDetection.ipynb\" target=\"_parent\"><img src=\"https://colab.research.google.com/assets/colab-badge.svg\" alt=\"Open In Colab\"/></a>"
      ]
    },
    {
      "cell_type": "code",
      "execution_count": null,
      "metadata": {
        "id": "G59mONOnJOXz"
      },
      "outputs": [],
      "source": [
        "import os\n",
        "from google.colab import drive"
      ]
    },
    {
      "cell_type": "code",
      "execution_count": null,
      "metadata": {
        "colab": {
          "base_uri": "https://localhost:8080/"
        },
        "id": "tXO3Ke4KD--l",
        "outputId": "4e4fd022-e52a-4c5e-e516-f7275ab02f54"
      },
      "outputs": [
        {
          "output_type": "stream",
          "name": "stdout",
          "text": [
            "Mounted at /content/gdrive\n"
          ]
        }
      ],
      "source": [
        "drive.mount('/content/gdrive',force_remount=True)"
      ]
    },
    {
      "cell_type": "code",
      "execution_count": null,
      "metadata": {
        "colab": {
          "base_uri": "https://localhost:8080/"
        },
        "id": "hVuOwofEEGQ9",
        "outputId": "e139902d-1f08-47a0-ed0b-657b28dfcf7d"
      },
      "outputs": [
        {
          "output_type": "stream",
          "name": "stdout",
          "text": [
            "data.yaml  runs  test  train  train.cache  valid\n"
          ]
        }
      ],
      "source": [
        "!ls /content/gdrive/MyDrive/data-science-project-switchgear-assembly-parts/data"
      ]
    },
    {
      "cell_type": "code",
      "execution_count": null,
      "metadata": {
        "id": "BsEO2ULqBsIY"
      },
      "outputs": [],
      "source": [
        "ROOT_DIR = '/content/gdrive/MyDrive/data-science-project-switchgear-assembly-parts/data'"
      ]
    },
    {
      "cell_type": "code",
      "execution_count": null,
      "metadata": {
        "colab": {
          "base_uri": "https://localhost:8080/"
        },
        "id": "42GjXjj4xdPg",
        "outputId": "b44257db-5ab2-4747-d983-9e4522332a01"
      },
      "outputs": [
        {
          "output_type": "stream",
          "name": "stdout",
          "text": [
            "Requirement already satisfied: ultralytics in /usr/local/lib/python3.10/dist-packages (8.3.29)\n",
            "Requirement already satisfied: numpy>=1.23.0 in /usr/local/lib/python3.10/dist-packages (from ultralytics) (1.26.4)\n",
            "Requirement already satisfied: matplotlib>=3.3.0 in /usr/local/lib/python3.10/dist-packages (from ultralytics) (3.8.0)\n",
            "Requirement already satisfied: opencv-python>=4.6.0 in /usr/local/lib/python3.10/dist-packages (from ultralytics) (4.10.0.84)\n",
            "Requirement already satisfied: pillow>=7.1.2 in /usr/local/lib/python3.10/dist-packages (from ultralytics) (10.4.0)\n",
            "Requirement already satisfied: pyyaml>=5.3.1 in /usr/local/lib/python3.10/dist-packages (from ultralytics) (6.0.2)\n",
            "Requirement already satisfied: requests>=2.23.0 in /usr/local/lib/python3.10/dist-packages (from ultralytics) (2.32.3)\n",
            "Requirement already satisfied: scipy>=1.4.1 in /usr/local/lib/python3.10/dist-packages (from ultralytics) (1.13.1)\n",
            "Requirement already satisfied: torch>=1.8.0 in /usr/local/lib/python3.10/dist-packages (from ultralytics) (2.5.0+cu121)\n",
            "Requirement already satisfied: torchvision>=0.9.0 in /usr/local/lib/python3.10/dist-packages (from ultralytics) (0.20.0+cu121)\n",
            "Requirement already satisfied: tqdm>=4.64.0 in /usr/local/lib/python3.10/dist-packages (from ultralytics) (4.66.6)\n",
            "Requirement already satisfied: psutil in /usr/local/lib/python3.10/dist-packages (from ultralytics) (5.9.5)\n",
            "Requirement already satisfied: py-cpuinfo in /usr/local/lib/python3.10/dist-packages (from ultralytics) (9.0.0)\n",
            "Requirement already satisfied: pandas>=1.1.4 in /usr/local/lib/python3.10/dist-packages (from ultralytics) (2.2.2)\n",
            "Requirement already satisfied: seaborn>=0.11.0 in /usr/local/lib/python3.10/dist-packages (from ultralytics) (0.13.2)\n",
            "Requirement already satisfied: ultralytics-thop>=2.0.0 in /usr/local/lib/python3.10/dist-packages (from ultralytics) (2.0.11)\n",
            "Requirement already satisfied: contourpy>=1.0.1 in /usr/local/lib/python3.10/dist-packages (from matplotlib>=3.3.0->ultralytics) (1.3.0)\n",
            "Requirement already satisfied: cycler>=0.10 in /usr/local/lib/python3.10/dist-packages (from matplotlib>=3.3.0->ultralytics) (0.12.1)\n",
            "Requirement already satisfied: fonttools>=4.22.0 in /usr/local/lib/python3.10/dist-packages (from matplotlib>=3.3.0->ultralytics) (4.54.1)\n",
            "Requirement already satisfied: kiwisolver>=1.0.1 in /usr/local/lib/python3.10/dist-packages (from matplotlib>=3.3.0->ultralytics) (1.4.7)\n",
            "Requirement already satisfied: packaging>=20.0 in /usr/local/lib/python3.10/dist-packages (from matplotlib>=3.3.0->ultralytics) (24.1)\n",
            "Requirement already satisfied: pyparsing>=2.3.1 in /usr/local/lib/python3.10/dist-packages (from matplotlib>=3.3.0->ultralytics) (3.2.0)\n",
            "Requirement already satisfied: python-dateutil>=2.7 in /usr/local/lib/python3.10/dist-packages (from matplotlib>=3.3.0->ultralytics) (2.8.2)\n",
            "Requirement already satisfied: pytz>=2020.1 in /usr/local/lib/python3.10/dist-packages (from pandas>=1.1.4->ultralytics) (2024.2)\n",
            "Requirement already satisfied: tzdata>=2022.7 in /usr/local/lib/python3.10/dist-packages (from pandas>=1.1.4->ultralytics) (2024.2)\n",
            "Requirement already satisfied: charset-normalizer<4,>=2 in /usr/local/lib/python3.10/dist-packages (from requests>=2.23.0->ultralytics) (3.4.0)\n",
            "Requirement already satisfied: idna<4,>=2.5 in /usr/local/lib/python3.10/dist-packages (from requests>=2.23.0->ultralytics) (3.10)\n",
            "Requirement already satisfied: urllib3<3,>=1.21.1 in /usr/local/lib/python3.10/dist-packages (from requests>=2.23.0->ultralytics) (2.2.3)\n",
            "Requirement already satisfied: certifi>=2017.4.17 in /usr/local/lib/python3.10/dist-packages (from requests>=2.23.0->ultralytics) (2024.8.30)\n",
            "Requirement already satisfied: filelock in /usr/local/lib/python3.10/dist-packages (from torch>=1.8.0->ultralytics) (3.16.1)\n",
            "Requirement already satisfied: typing-extensions>=4.8.0 in /usr/local/lib/python3.10/dist-packages (from torch>=1.8.0->ultralytics) (4.12.2)\n",
            "Requirement already satisfied: networkx in /usr/local/lib/python3.10/dist-packages (from torch>=1.8.0->ultralytics) (3.4.2)\n",
            "Requirement already satisfied: jinja2 in /usr/local/lib/python3.10/dist-packages (from torch>=1.8.0->ultralytics) (3.1.4)\n",
            "Requirement already satisfied: fsspec in /usr/local/lib/python3.10/dist-packages (from torch>=1.8.0->ultralytics) (2024.10.0)\n",
            "Requirement already satisfied: sympy==1.13.1 in /usr/local/lib/python3.10/dist-packages (from torch>=1.8.0->ultralytics) (1.13.1)\n",
            "Requirement already satisfied: mpmath<1.4,>=1.1.0 in /usr/local/lib/python3.10/dist-packages (from sympy==1.13.1->torch>=1.8.0->ultralytics) (1.3.0)\n",
            "Requirement already satisfied: six>=1.5 in /usr/local/lib/python3.10/dist-packages (from python-dateutil>=2.7->matplotlib>=3.3.0->ultralytics) (1.16.0)\n",
            "Requirement already satisfied: MarkupSafe>=2.0 in /usr/local/lib/python3.10/dist-packages (from jinja2->torch>=1.8.0->ultralytics) (3.0.2)\n"
          ]
        }
      ],
      "source": [
        "!pip install ultralytics"
      ]
    },
    {
      "cell_type": "code",
      "execution_count": null,
      "metadata": {
        "colab": {
          "base_uri": "https://localhost:8080/",
          "height": 602
        },
        "id": "8HC1mB94GHBz",
        "outputId": "a1b1c102-5f3f-46b0-aa0e-ec09c3ee3451"
      },
      "outputs": [
        {
          "output_type": "stream",
          "name": "stdout",
          "text": [
            "Downloading https://github.com/ultralytics/assets/releases/download/v8.3.0/yolov9c.pt to 'yolov9c.pt'...\n"
          ]
        },
        {
          "output_type": "stream",
          "name": "stderr",
          "text": [
            "100%|██████████| 49.4M/49.4M [00:00<00:00, 186MB/s]\n"
          ]
        },
        {
          "output_type": "stream",
          "name": "stdout",
          "text": [
            "Ultralytics 8.3.29 🚀 Python-3.10.12 torch-2.5.0+cu121 CPU (Intel Xeon 2.20GHz)\n",
            "\u001b[34m\u001b[1mengine/trainer: \u001b[0mtask=detect, mode=train, model=yolov9c.pt, data=/content/gdrive/MyDrive/data-science-project-switchgear-assembly-parts/data/data.yaml, epochs=100, time=None, patience=100, batch=16, imgsz=640, save=True, save_period=-1, cache=False, device=None, workers=8, project=None, name=train, exist_ok=False, pretrained=True, optimizer=auto, verbose=True, seed=0, deterministic=True, single_cls=False, rect=False, cos_lr=False, close_mosaic=10, resume=False, amp=True, fraction=1.0, profile=False, freeze=None, multi_scale=False, overlap_mask=True, mask_ratio=4, dropout=0.0, val=True, split=val, save_json=False, save_hybrid=False, conf=None, iou=0.7, max_det=300, half=False, dnn=False, plots=True, source=None, vid_stride=1, stream_buffer=False, visualize=False, augment=False, agnostic_nms=False, classes=None, retina_masks=False, embed=None, show=False, save_frames=False, save_txt=False, save_conf=False, save_crop=False, show_labels=True, show_conf=True, show_boxes=True, line_width=None, format=torchscript, keras=False, optimize=False, int8=False, dynamic=False, simplify=True, opset=None, workspace=4, nms=False, lr0=0.01, lrf=0.01, momentum=0.937, weight_decay=0.0005, warmup_epochs=3.0, warmup_momentum=0.8, warmup_bias_lr=0.1, box=7.5, cls=0.5, dfl=1.5, pose=12.0, kobj=1.0, label_smoothing=0.0, nbs=64, hsv_h=0.015, hsv_s=0.7, hsv_v=0.4, degrees=0.0, translate=0.1, scale=0.5, shear=0.0, perspective=0.0, flipud=0.0, fliplr=0.5, bgr=0.0, mosaic=1.0, mixup=0.0, copy_paste=0.0, copy_paste_mode=flip, auto_augment=randaugment, erasing=0.4, crop_fraction=1.0, cfg=None, tracker=botsort.yaml, save_dir=runs/detect/train\n"
          ]
        },
        {
          "output_type": "error",
          "ename": "RuntimeError",
          "evalue": "Dataset '/content/gdrive/MyDrive/data-science-project-switchgear-assembly-parts/data/data.yaml' error ❌ \nDataset '/content/gdrive/MyDrive/data-science-project-switchgear-assembly-parts/data/data.yaml' images not found ⚠️, missing path '/content/drive/MyDrive/project/valid'\nNote dataset download directory is '/content/datasets'. You can update this in '/root/.config/Ultralytics/settings.json'",
          "traceback": [
            "\u001b[0;31m---------------------------------------------------------------------------\u001b[0m",
            "\u001b[0;31mFileNotFoundError\u001b[0m                         Traceback (most recent call last)",
            "\u001b[0;32m/usr/local/lib/python3.10/dist-packages/ultralytics/engine/trainer.py\u001b[0m in \u001b[0;36mget_dataset\u001b[0;34m(self)\u001b[0m\n\u001b[1;32m    556\u001b[0m             }:\n\u001b[0;32m--> 557\u001b[0;31m                 \u001b[0mdata\u001b[0m \u001b[0;34m=\u001b[0m \u001b[0mcheck_det_dataset\u001b[0m\u001b[0;34m(\u001b[0m\u001b[0mself\u001b[0m\u001b[0;34m.\u001b[0m\u001b[0margs\u001b[0m\u001b[0;34m.\u001b[0m\u001b[0mdata\u001b[0m\u001b[0;34m)\u001b[0m\u001b[0;34m\u001b[0m\u001b[0;34m\u001b[0m\u001b[0m\n\u001b[0m\u001b[1;32m    558\u001b[0m                 \u001b[0;32mif\u001b[0m \u001b[0;34m\"yaml_file\"\u001b[0m \u001b[0;32min\u001b[0m \u001b[0mdata\u001b[0m\u001b[0;34m:\u001b[0m\u001b[0;34m\u001b[0m\u001b[0;34m\u001b[0m\u001b[0m\n",
            "\u001b[0;32m/usr/local/lib/python3.10/dist-packages/ultralytics/data/utils.py\u001b[0m in \u001b[0;36mcheck_det_dataset\u001b[0;34m(dataset, autodownload)\u001b[0m\n\u001b[1;32m    328\u001b[0m                 \u001b[0mm\u001b[0m \u001b[0;34m+=\u001b[0m \u001b[0;34mf\"\\nNote dataset download directory is '{DATASETS_DIR}'. You can update this in '{SETTINGS_FILE}'\"\u001b[0m\u001b[0;34m\u001b[0m\u001b[0;34m\u001b[0m\u001b[0m\n\u001b[0;32m--> 329\u001b[0;31m                 \u001b[0;32mraise\u001b[0m \u001b[0mFileNotFoundError\u001b[0m\u001b[0;34m(\u001b[0m\u001b[0mm\u001b[0m\u001b[0;34m)\u001b[0m\u001b[0;34m\u001b[0m\u001b[0;34m\u001b[0m\u001b[0m\n\u001b[0m\u001b[1;32m    330\u001b[0m             \u001b[0mt\u001b[0m \u001b[0;34m=\u001b[0m \u001b[0mtime\u001b[0m\u001b[0;34m.\u001b[0m\u001b[0mtime\u001b[0m\u001b[0;34m(\u001b[0m\u001b[0;34m)\u001b[0m\u001b[0;34m\u001b[0m\u001b[0;34m\u001b[0m\u001b[0m\n",
            "\u001b[0;31mFileNotFoundError\u001b[0m: \nDataset '/content/gdrive/MyDrive/data-science-project-switchgear-assembly-parts/data/data.yaml' images not found ⚠️, missing path '/content/drive/MyDrive/project/valid'\nNote dataset download directory is '/content/datasets'. You can update this in '/root/.config/Ultralytics/settings.json'",
            "\nThe above exception was the direct cause of the following exception:\n",
            "\u001b[0;31mRuntimeError\u001b[0m                              Traceback (most recent call last)",
            "\u001b[0;32m<ipython-input-57-3aa473fa2f76>\u001b[0m in \u001b[0;36m<cell line: 3>\u001b[0;34m()\u001b[0m\n\u001b[1;32m      1\u001b[0m \u001b[0;32mfrom\u001b[0m \u001b[0multralytics\u001b[0m \u001b[0;32mimport\u001b[0m \u001b[0mYOLO\u001b[0m\u001b[0;34m\u001b[0m\u001b[0;34m\u001b[0m\u001b[0m\n\u001b[1;32m      2\u001b[0m \u001b[0mmodel\u001b[0m\u001b[0;34m=\u001b[0m\u001b[0mYOLO\u001b[0m\u001b[0;34m(\u001b[0m\u001b[0;34m'yolov9c.pt'\u001b[0m\u001b[0;34m)\u001b[0m\u001b[0;34m\u001b[0m\u001b[0;34m\u001b[0m\u001b[0m\n\u001b[0;32m----> 3\u001b[0;31m \u001b[0mresults\u001b[0m \u001b[0;34m=\u001b[0m \u001b[0mmodel\u001b[0m\u001b[0;34m.\u001b[0m\u001b[0mtrain\u001b[0m\u001b[0;34m(\u001b[0m\u001b[0mdata\u001b[0m\u001b[0;34m=\u001b[0m\u001b[0mos\u001b[0m\u001b[0;34m.\u001b[0m\u001b[0mpath\u001b[0m\u001b[0;34m.\u001b[0m\u001b[0mjoin\u001b[0m\u001b[0;34m(\u001b[0m\u001b[0mROOT_DIR\u001b[0m\u001b[0;34m,\u001b[0m \u001b[0;34m'data.yaml'\u001b[0m\u001b[0;34m)\u001b[0m\u001b[0;34m,\u001b[0m \u001b[0mepochs\u001b[0m\u001b[0;34m=\u001b[0m\u001b[0;36m100\u001b[0m\u001b[0;34m)\u001b[0m\u001b[0;34m\u001b[0m\u001b[0;34m\u001b[0m\u001b[0m\n\u001b[0m",
            "\u001b[0;32m/usr/local/lib/python3.10/dist-packages/ultralytics/engine/model.py\u001b[0m in \u001b[0;36mtrain\u001b[0;34m(self, trainer, **kwargs)\u001b[0m\n\u001b[1;32m    794\u001b[0m             \u001b[0margs\u001b[0m\u001b[0;34m[\u001b[0m\u001b[0;34m\"resume\"\u001b[0m\u001b[0;34m]\u001b[0m \u001b[0;34m=\u001b[0m \u001b[0mself\u001b[0m\u001b[0;34m.\u001b[0m\u001b[0mckpt_path\u001b[0m\u001b[0;34m\u001b[0m\u001b[0;34m\u001b[0m\u001b[0m\n\u001b[1;32m    795\u001b[0m \u001b[0;34m\u001b[0m\u001b[0m\n\u001b[0;32m--> 796\u001b[0;31m         \u001b[0mself\u001b[0m\u001b[0;34m.\u001b[0m\u001b[0mtrainer\u001b[0m \u001b[0;34m=\u001b[0m \u001b[0;34m(\u001b[0m\u001b[0mtrainer\u001b[0m \u001b[0;32mor\u001b[0m \u001b[0mself\u001b[0m\u001b[0;34m.\u001b[0m\u001b[0m_smart_load\u001b[0m\u001b[0;34m(\u001b[0m\u001b[0;34m\"trainer\"\u001b[0m\u001b[0;34m)\u001b[0m\u001b[0;34m)\u001b[0m\u001b[0;34m(\u001b[0m\u001b[0moverrides\u001b[0m\u001b[0;34m=\u001b[0m\u001b[0margs\u001b[0m\u001b[0;34m,\u001b[0m \u001b[0m_callbacks\u001b[0m\u001b[0;34m=\u001b[0m\u001b[0mself\u001b[0m\u001b[0;34m.\u001b[0m\u001b[0mcallbacks\u001b[0m\u001b[0;34m)\u001b[0m\u001b[0;34m\u001b[0m\u001b[0;34m\u001b[0m\u001b[0m\n\u001b[0m\u001b[1;32m    797\u001b[0m         \u001b[0;32mif\u001b[0m \u001b[0;32mnot\u001b[0m \u001b[0margs\u001b[0m\u001b[0;34m.\u001b[0m\u001b[0mget\u001b[0m\u001b[0;34m(\u001b[0m\u001b[0;34m\"resume\"\u001b[0m\u001b[0;34m)\u001b[0m\u001b[0;34m:\u001b[0m  \u001b[0;31m# manually set model only if not resuming\u001b[0m\u001b[0;34m\u001b[0m\u001b[0;34m\u001b[0m\u001b[0m\n\u001b[1;32m    798\u001b[0m             \u001b[0mself\u001b[0m\u001b[0;34m.\u001b[0m\u001b[0mtrainer\u001b[0m\u001b[0;34m.\u001b[0m\u001b[0mmodel\u001b[0m \u001b[0;34m=\u001b[0m \u001b[0mself\u001b[0m\u001b[0;34m.\u001b[0m\u001b[0mtrainer\u001b[0m\u001b[0;34m.\u001b[0m\u001b[0mget_model\u001b[0m\u001b[0;34m(\u001b[0m\u001b[0mweights\u001b[0m\u001b[0;34m=\u001b[0m\u001b[0mself\u001b[0m\u001b[0;34m.\u001b[0m\u001b[0mmodel\u001b[0m \u001b[0;32mif\u001b[0m \u001b[0mself\u001b[0m\u001b[0;34m.\u001b[0m\u001b[0mckpt\u001b[0m \u001b[0;32melse\u001b[0m \u001b[0;32mNone\u001b[0m\u001b[0;34m,\u001b[0m \u001b[0mcfg\u001b[0m\u001b[0;34m=\u001b[0m\u001b[0mself\u001b[0m\u001b[0;34m.\u001b[0m\u001b[0mmodel\u001b[0m\u001b[0;34m.\u001b[0m\u001b[0myaml\u001b[0m\u001b[0;34m)\u001b[0m\u001b[0;34m\u001b[0m\u001b[0;34m\u001b[0m\u001b[0m\n",
            "\u001b[0;32m/usr/local/lib/python3.10/dist-packages/ultralytics/engine/trainer.py\u001b[0m in \u001b[0;36m__init__\u001b[0;34m(self, cfg, overrides, _callbacks)\u001b[0m\n\u001b[1;32m    131\u001b[0m         \u001b[0mself\u001b[0m\u001b[0;34m.\u001b[0m\u001b[0mmodel\u001b[0m \u001b[0;34m=\u001b[0m \u001b[0mcheck_model_file_from_stem\u001b[0m\u001b[0;34m(\u001b[0m\u001b[0mself\u001b[0m\u001b[0;34m.\u001b[0m\u001b[0margs\u001b[0m\u001b[0;34m.\u001b[0m\u001b[0mmodel\u001b[0m\u001b[0;34m)\u001b[0m  \u001b[0;31m# add suffix, i.e. yolov8n -> yolov8n.pt\u001b[0m\u001b[0;34m\u001b[0m\u001b[0;34m\u001b[0m\u001b[0m\n\u001b[1;32m    132\u001b[0m         \u001b[0;32mwith\u001b[0m \u001b[0mtorch_distributed_zero_first\u001b[0m\u001b[0;34m(\u001b[0m\u001b[0mLOCAL_RANK\u001b[0m\u001b[0;34m)\u001b[0m\u001b[0;34m:\u001b[0m  \u001b[0;31m# avoid auto-downloading dataset multiple times\u001b[0m\u001b[0;34m\u001b[0m\u001b[0;34m\u001b[0m\u001b[0m\n\u001b[0;32m--> 133\u001b[0;31m             \u001b[0mself\u001b[0m\u001b[0;34m.\u001b[0m\u001b[0mtrainset\u001b[0m\u001b[0;34m,\u001b[0m \u001b[0mself\u001b[0m\u001b[0;34m.\u001b[0m\u001b[0mtestset\u001b[0m \u001b[0;34m=\u001b[0m \u001b[0mself\u001b[0m\u001b[0;34m.\u001b[0m\u001b[0mget_dataset\u001b[0m\u001b[0;34m(\u001b[0m\u001b[0;34m)\u001b[0m\u001b[0;34m\u001b[0m\u001b[0;34m\u001b[0m\u001b[0m\n\u001b[0m\u001b[1;32m    134\u001b[0m         \u001b[0mself\u001b[0m\u001b[0;34m.\u001b[0m\u001b[0mema\u001b[0m \u001b[0;34m=\u001b[0m \u001b[0;32mNone\u001b[0m\u001b[0;34m\u001b[0m\u001b[0;34m\u001b[0m\u001b[0m\n\u001b[1;32m    135\u001b[0m \u001b[0;34m\u001b[0m\u001b[0m\n",
            "\u001b[0;32m/usr/local/lib/python3.10/dist-packages/ultralytics/engine/trainer.py\u001b[0m in \u001b[0;36mget_dataset\u001b[0;34m(self)\u001b[0m\n\u001b[1;32m    559\u001b[0m                     \u001b[0mself\u001b[0m\u001b[0;34m.\u001b[0m\u001b[0margs\u001b[0m\u001b[0;34m.\u001b[0m\u001b[0mdata\u001b[0m \u001b[0;34m=\u001b[0m \u001b[0mdata\u001b[0m\u001b[0;34m[\u001b[0m\u001b[0;34m\"yaml_file\"\u001b[0m\u001b[0;34m]\u001b[0m  \u001b[0;31m# for validating 'yolo train data=url.zip' usage\u001b[0m\u001b[0;34m\u001b[0m\u001b[0;34m\u001b[0m\u001b[0m\n\u001b[1;32m    560\u001b[0m         \u001b[0;32mexcept\u001b[0m \u001b[0mException\u001b[0m \u001b[0;32mas\u001b[0m \u001b[0me\u001b[0m\u001b[0;34m:\u001b[0m\u001b[0;34m\u001b[0m\u001b[0;34m\u001b[0m\u001b[0m\n\u001b[0;32m--> 561\u001b[0;31m             \u001b[0;32mraise\u001b[0m \u001b[0mRuntimeError\u001b[0m\u001b[0;34m(\u001b[0m\u001b[0memojis\u001b[0m\u001b[0;34m(\u001b[0m\u001b[0;34mf\"Dataset '{clean_url(self.args.data)}' error ❌ {e}\"\u001b[0m\u001b[0;34m)\u001b[0m\u001b[0;34m)\u001b[0m \u001b[0;32mfrom\u001b[0m \u001b[0me\u001b[0m\u001b[0;34m\u001b[0m\u001b[0;34m\u001b[0m\u001b[0m\n\u001b[0m\u001b[1;32m    562\u001b[0m         \u001b[0mself\u001b[0m\u001b[0;34m.\u001b[0m\u001b[0mdata\u001b[0m \u001b[0;34m=\u001b[0m \u001b[0mdata\u001b[0m\u001b[0;34m\u001b[0m\u001b[0;34m\u001b[0m\u001b[0m\n\u001b[1;32m    563\u001b[0m         \u001b[0;32mreturn\u001b[0m \u001b[0mdata\u001b[0m\u001b[0;34m[\u001b[0m\u001b[0;34m\"train\"\u001b[0m\u001b[0;34m]\u001b[0m\u001b[0;34m,\u001b[0m \u001b[0mdata\u001b[0m\u001b[0;34m.\u001b[0m\u001b[0mget\u001b[0m\u001b[0;34m(\u001b[0m\u001b[0;34m\"val\"\u001b[0m\u001b[0;34m)\u001b[0m \u001b[0;32mor\u001b[0m \u001b[0mdata\u001b[0m\u001b[0;34m.\u001b[0m\u001b[0mget\u001b[0m\u001b[0;34m(\u001b[0m\u001b[0;34m\"test\"\u001b[0m\u001b[0;34m)\u001b[0m\u001b[0;34m\u001b[0m\u001b[0;34m\u001b[0m\u001b[0m\n",
            "\u001b[0;31mRuntimeError\u001b[0m: Dataset '/content/gdrive/MyDrive/data-science-project-switchgear-assembly-parts/data/data.yaml' error ❌ \nDataset '/content/gdrive/MyDrive/data-science-project-switchgear-assembly-parts/data/data.yaml' images not found ⚠️, missing path '/content/drive/MyDrive/project/valid'\nNote dataset download directory is '/content/datasets'. You can update this in '/root/.config/Ultralytics/settings.json'"
          ]
        }
      ],
      "source": [
        "from ultralytics import YOLO\n",
        "model=YOLO('yolov9c.pt')\n",
        "results = model.train(data=os.path.join(ROOT_DIR, 'data.yaml'), epochs=100)"
      ]
    },
    {
      "cell_type": "code",
      "execution_count": null,
      "metadata": {
        "id": "yH8pPC1swvxB",
        "colab": {
          "base_uri": "https://localhost:8080/"
        },
        "outputId": "491305a5-26e7-4d54-f390-f9a5237256df"
      },
      "outputs": [
        {
          "output_type": "stream",
          "name": "stdout",
          "text": [
            "YOLOv9c summary: 618 layers, 25,590,912 parameters, 0 gradients, 104.0 GFLOPs\n"
          ]
        },
        {
          "output_type": "execute_result",
          "data": {
            "text/plain": [
              "(618, 25590912, 0, 104.02268160000003)"
            ]
          },
          "metadata": {},
          "execution_count": 58
        }
      ],
      "source": [
        "model.info()"
      ]
    },
    {
      "cell_type": "code",
      "execution_count": null,
      "metadata": {
        "id": "08hlMQKGgp0M"
      },
      "outputs": [],
      "source": [
        "import locale\n",
        "def getpreferredencoding(do_setlocale = True):\n",
        "    return \"UTF-8\"\n",
        "locale.getpreferredencoding = getpreferredencoding\n",
        "!scp -r runs/detect/train '/content/gdrive/MyDrive/data-science-project-switchgear-assembly-parts/yolov9'"
      ]
    },
    {
      "cell_type": "code",
      "execution_count": null,
      "metadata": {
        "id": "qUYca_P39Ko5",
        "colab": {
          "base_uri": "https://localhost:8080/"
        },
        "outputId": "52b37e98-aec6-4ecb-bb30-64976617c857"
      },
      "outputs": [
        {
          "output_type": "stream",
          "name": "stdout",
          "text": [
            "\u001b[31mERROR: Could not find a version that satisfies the requirement git (from versions: none)\u001b[0m\u001b[31m\n",
            "\u001b[0m\u001b[31mERROR: No matching distribution found for git\u001b[0m\u001b[31m\n",
            "\u001b[0m"
          ]
        }
      ],
      "source": [
        "pip install git"
      ]
    },
    {
      "cell_type": "code",
      "execution_count": null,
      "metadata": {
        "id": "C0w9xDPvegYr"
      },
      "outputs": [],
      "source": [
        "!git clone https://github.com/SkalskiP/yolov9.git"
      ]
    },
    {
      "cell_type": "markdown",
      "metadata": {
        "id": "ViOJNAka_R9v"
      },
      "source": [
        "**use this file for all the coding see requirments.txt lot of libraries installed here**"
      ]
    },
    {
      "cell_type": "code",
      "execution_count": null,
      "metadata": {
        "id": "7iRayQqv6Ss4"
      },
      "outputs": [],
      "source": [
        "!cd yolov9\n",
        "!ls yolov9\n",
        "from google.colab import files\n",
        "files.view(\"yolov9/requirements.txt\")\n",
        "!pip3 install -r yolov9/requirements.txt -q"
      ]
    },
    {
      "cell_type": "code",
      "execution_count": null,
      "metadata": {
        "id": "bJAd64zH97fd"
      },
      "outputs": [],
      "source": [
        "import os\n",
        "HOME = os.getcwd()\n",
        "print(HOME)\n"
      ]
    },
    {
      "cell_type": "code",
      "execution_count": null,
      "metadata": {
        "id": "ZcirOH7BBfyH"
      },
      "outputs": [],
      "source": [
        "!mkdir -p {HOME}/weights\n",
        "!wget -P {HOME}/weights -q https://github.com/WongKinYiu/yolov9/releases/download/v0.1/yolov9-c.pt\n",
        "!wget -P {HOME}/weights -q https://github.com/WongKinYiu/yolov9/releases/download/v0.1/yolov9-e.pt\n",
        "!wget -P {HOME}/weights -q https://github.com/WongKinYiu/yolov9/releases/download/v0.1/gelan-c.pt\n",
        "!wget -P {HOME}/weights -q https://github.com/WongKinYiu/yolov9/releases/download/v0.1/gelan-e.pt"
      ]
    },
    {
      "cell_type": "code",
      "execution_count": null,
      "metadata": {
        "id": "Mz2ZvSStJ405"
      },
      "outputs": [],
      "source": [
        "!ls -la {HOME}/weights"
      ]
    },
    {
      "cell_type": "code",
      "execution_count": null,
      "metadata": {
        "id": "lE-OPvTbBlxT"
      },
      "outputs": [],
      "source": [
        "!nvidia-smi"
      ]
    },
    {
      "cell_type": "code",
      "execution_count": null,
      "metadata": {
        "id": "IhirJZXoKOng"
      },
      "outputs": [],
      "source": [
        "%cd {HOME}/yolov9\n",
        "\n",
        "!python train.py \\\n",
        "--batch 16 --epochs 25 --img 640 --device 0 --min-items 0 --close-mosaic 15 \\\n",
        "--data  /content/gdrive/MyDrive/data-science-project-switchgear-assembly-parts/data/data.yaml \\\n",
        "--weights {HOME}/weights/gelan-c.pt \\\n",
        "--cfg models/detect/gelan-c.yaml \\\n",
        "--hyp hyp.scratch-high.yaml"
      ]
    },
    {
      "cell_type": "code",
      "execution_count": null,
      "metadata": {
        "id": "kAzsP1Ojgs-l"
      },
      "outputs": [],
      "source": [
        "%%writefile StreamlitApp.py\n",
        "import streamlit as st\n",
        "st.title('data science project')\n",
        "st.text('upload picture')\n",
        "st.markdown('upload picture')\n",
        "pictue=st.file_uploader('upload picture')"
      ]
    },
    {
      "cell_type": "code",
      "execution_count": null,
      "metadata": {
        "colab": {
          "base_uri": "https://localhost:8080/"
        },
        "id": "SCfykHql6j5d",
        "outputId": "93221504-1023-4cd9-8942-c2bfcc46bd15"
      },
      "outputs": [
        {
          "output_type": "stream",
          "name": "stdout",
          "text": [
            "Requirement already satisfied: opencv-python in /usr/local/lib/python3.10/dist-packages (4.10.0.84)\n",
            "Requirement already satisfied: numpy>=1.21.2 in /usr/local/lib/python3.10/dist-packages (from opencv-python) (1.26.4)\n"
          ]
        }
      ],
      "source": [
        "!pip install opencv-python"
      ]
    },
    {
      "cell_type": "code",
      "execution_count": null,
      "metadata": {
        "colab": {
          "base_uri": "https://localhost:8080/"
        },
        "id": "T04-sSwx6yPF",
        "outputId": "6a878501-88ad-4a02-963e-64adad7b014d"
      },
      "outputs": [
        {
          "output_type": "stream",
          "name": "stdout",
          "text": [
            "ls: cannot access '/content/gdrive/MyDrive/data-science-project-switchgear-assembly-parts/yolo v9 best weights\\train5\\weights\\best.pt': No such file or directory\n"
          ]
        }
      ],
      "source": [
        "!ls '/content/gdrive/MyDrive/data-science-project-switchgear-assembly-parts/yolo v9 best weights\\train5\\weights\\best.pt'\n",
        "weights='/content/gdrive/MyDrive/data-science-project-switchgear-assembly-parts/yolo v9 best weights/train5/weights/best.pt'"
      ]
    },
    {
      "cell_type": "code",
      "execution_count": null,
      "metadata": {
        "colab": {
          "base_uri": "https://localhost:8080/",
          "height": 315
        },
        "id": "MGoqiB-uG39C",
        "outputId": "3dc6b1b0-fc68-43f5-9441-faf5c240027f"
      },
      "outputs": [
        {
          "output_type": "error",
          "ename": "UnicodeDecodeError",
          "evalue": "'utf-8' codec can't decode byte 0x80 in position 64: invalid start byte",
          "traceback": [
            "\u001b[0;31m---------------------------------------------------------------------------\u001b[0m",
            "\u001b[0;31mUnicodeDecodeError\u001b[0m                        Traceback (most recent call last)",
            "\u001b[0;32m<ipython-input-63-b9adf39be170>\u001b[0m in \u001b[0;36m<cell line: 3>\u001b[0;34m()\u001b[0m\n\u001b[1;32m      2\u001b[0m \u001b[0;34m\u001b[0m\u001b[0m\n\u001b[1;32m      3\u001b[0m \u001b[0;32mwith\u001b[0m \u001b[0mopen\u001b[0m\u001b[0;34m(\u001b[0m\u001b[0;34mr'/content/gdrive/MyDrive/data-science-project-switchgear-assembly-parts/yolo v9 best weights/train5/weights/best.pt'\u001b[0m\u001b[0;34m,\u001b[0m \u001b[0;34m'r'\u001b[0m\u001b[0;34m)\u001b[0m \u001b[0;32mas\u001b[0m \u001b[0mf\u001b[0m\u001b[0;34m:\u001b[0m\u001b[0;34m\u001b[0m\u001b[0;34m\u001b[0m\u001b[0m\n\u001b[0;32m----> 4\u001b[0;31m     \u001b[0mfile_contents\u001b[0m \u001b[0;34m=\u001b[0m \u001b[0mf\u001b[0m\u001b[0;34m.\u001b[0m\u001b[0mread\u001b[0m\u001b[0;34m(\u001b[0m\u001b[0;34m)\u001b[0m\u001b[0;34m\u001b[0m\u001b[0;34m\u001b[0m\u001b[0m\n\u001b[0m\u001b[1;32m      5\u001b[0m \u001b[0mfile_contents\u001b[0m\u001b[0;34m\u001b[0m\u001b[0;34m\u001b[0m\u001b[0m\n",
            "\u001b[0;32m/usr/lib/python3.10/codecs.py\u001b[0m in \u001b[0;36mdecode\u001b[0;34m(self, input, final)\u001b[0m\n\u001b[1;32m    320\u001b[0m         \u001b[0;31m# decode input (taking the buffer into account)\u001b[0m\u001b[0;34m\u001b[0m\u001b[0;34m\u001b[0m\u001b[0m\n\u001b[1;32m    321\u001b[0m         \u001b[0mdata\u001b[0m \u001b[0;34m=\u001b[0m \u001b[0mself\u001b[0m\u001b[0;34m.\u001b[0m\u001b[0mbuffer\u001b[0m \u001b[0;34m+\u001b[0m \u001b[0minput\u001b[0m\u001b[0;34m\u001b[0m\u001b[0;34m\u001b[0m\u001b[0m\n\u001b[0;32m--> 322\u001b[0;31m         \u001b[0;34m(\u001b[0m\u001b[0mresult\u001b[0m\u001b[0;34m,\u001b[0m \u001b[0mconsumed\u001b[0m\u001b[0;34m)\u001b[0m \u001b[0;34m=\u001b[0m \u001b[0mself\u001b[0m\u001b[0;34m.\u001b[0m\u001b[0m_buffer_decode\u001b[0m\u001b[0;34m(\u001b[0m\u001b[0mdata\u001b[0m\u001b[0;34m,\u001b[0m \u001b[0mself\u001b[0m\u001b[0;34m.\u001b[0m\u001b[0merrors\u001b[0m\u001b[0;34m,\u001b[0m \u001b[0mfinal\u001b[0m\u001b[0;34m)\u001b[0m\u001b[0;34m\u001b[0m\u001b[0;34m\u001b[0m\u001b[0m\n\u001b[0m\u001b[1;32m    323\u001b[0m         \u001b[0;31m# keep undecoded input until the next call\u001b[0m\u001b[0;34m\u001b[0m\u001b[0;34m\u001b[0m\u001b[0m\n\u001b[1;32m    324\u001b[0m         \u001b[0mself\u001b[0m\u001b[0;34m.\u001b[0m\u001b[0mbuffer\u001b[0m \u001b[0;34m=\u001b[0m \u001b[0mdata\u001b[0m\u001b[0;34m[\u001b[0m\u001b[0mconsumed\u001b[0m\u001b[0;34m:\u001b[0m\u001b[0;34m]\u001b[0m\u001b[0;34m\u001b[0m\u001b[0;34m\u001b[0m\u001b[0m\n",
            "\u001b[0;31mUnicodeDecodeError\u001b[0m: 'utf-8' codec can't decode byte 0x80 in position 64: invalid start byte"
          ]
        }
      ],
      "source": [
        "# prompt: open file\n",
        "\n",
        "with open(r'/content/gdrive/MyDrive/data-science-project-switchgear-assembly-parts/yolo v9 best weights/train5/weights/best.pt', 'r') as f:\n",
        "    file_contents = f.read()\n",
        "file_contents"
      ]
    },
    {
      "cell_type": "code",
      "execution_count": null,
      "metadata": {
        "id": "vaPxk7UeHI1i"
      },
      "outputs": [],
      "source": [
        "# prompt: open file\n",
        "\n",
        "# Open the file in binary mode ('rb') to read its contents as raw bytes.\n",
        "with open(r'/content/gdrive/MyDrive/data-science-project-switchgear-assembly-parts/yolo v9 best weights/train5/weights/best.pt', 'rb') as f:\n",
        "    file_contents = f.read()\n",
        "\n",
        "# Now file_contents will contain the raw bytes of the file,\n",
        "# which you can then process as needed.\n",
        "# For example, if you want to load the PyTorch model, you would typically\n",
        "# use torch.load() with the file object or file path.\n",
        "\n",
        "# If you need to work with specific parts of the file as text,\n",
        "# you can decode specific sections after reading the bytes.\n",
        "# However, be cautious about interpreting binary data as text."
      ]
    },
    {
      "cell_type": "code",
      "execution_count": null,
      "metadata": {
        "id": "Fp0z0URC6gjU"
      },
      "outputs": [],
      "source": [
        "from ultralytics import YOLO\n",
        "import cv2\n",
        "from google.colab.patches import cv2_imshow\n",
        "\n",
        "# Load YOLO model with your custom weights\n",
        "model = YOLO(weights)\n",
        "\n",
        "# Load the image\n",
        "image_path1 = r'/content/gdrive/MyDrive/data-science-project-switchgear-assembly-parts/4040 Series T Slot L-Shape Interior Inside Corner Connector Joint Bracket 4.jpg'\n",
        "image_path2 = r'/content/gdrive/MyDrive/data-science-project-switchgear-assembly-parts/Caster Bracket 1.png'\n",
        "image = cv2.imread(image_path)\n",
        "\n",
        "# Run inference\n",
        "results = model.predict(source=image_path)\n",
        "print(results)\n",
        "# Loop through detections and draw bounding boxes\n",
        "for result in results:\n",
        "    for detection in result.boxes:\n",
        "        # Get coordinates and confidence\n",
        "        x1, y1, x2, y2 = detection.xyxy[0].int().tolist()  # Bounding box coordinates\n",
        "        confidence = detection.conf  # Confidence score\n",
        "        class_id = detection.cls  # Class ID\n",
        "\n",
        "        # Draw bounding box\n",
        "        cv2.rectangle(image, (x1, y1), (x2, y2), (0, 255, 0), 2)  # Green box\n",
        "        label = f\"{result.names[int(class_id)]}: {confidence:.2f}\"\n",
        "        cv2.putText(image, label, (x1, y1 - 10), cv2.FONT_HERSHEY_SIMPLEX, 0.5, (0, 255, 0), 2)\n",
        "\n",
        "# Display the image with bounding boxes\n",
        "cv2_imshow(image)\n",
        "cv2.waitKey(0)\n",
        "cv2.destroyAllWindows()\n"
      ]
    },
    {
      "cell_type": "code",
      "execution_count": null,
      "metadata": {
        "colab": {
          "base_uri": "https://localhost:8080/",
          "height": 211
        },
        "id": "BV4oFKKqP-E3",
        "outputId": "2b41aefe-207d-4910-b1e8-3b8304ae33ec"
      },
      "outputs": [
        {
          "output_type": "error",
          "ename": "NameError",
          "evalue": "name 'image_path1' is not defined",
          "traceback": [
            "\u001b[0;31m---------------------------------------------------------------------------\u001b[0m",
            "\u001b[0;31mNameError\u001b[0m                                 Traceback (most recent call last)",
            "\u001b[0;32m<ipython-input-65-7ea4fe72ef9e>\u001b[0m in \u001b[0;36m<cell line: 11>\u001b[0;34m()\u001b[0m\n\u001b[1;32m      9\u001b[0m \u001b[0;34m\u001b[0m\u001b[0m\n\u001b[1;32m     10\u001b[0m \u001b[0;31m# Run inference on an image (replace 'path/to/image.jpg' with your actual image path)\u001b[0m\u001b[0;34m\u001b[0m\u001b[0;34m\u001b[0m\u001b[0m\n\u001b[0;32m---> 11\u001b[0;31m \u001b[0mresults\u001b[0m \u001b[0;34m=\u001b[0m \u001b[0mmodel\u001b[0m\u001b[0;34m.\u001b[0m\u001b[0mpredict\u001b[0m\u001b[0;34m(\u001b[0m\u001b[0mimage_path1\u001b[0m\u001b[0;34m)\u001b[0m\u001b[0;34m\u001b[0m\u001b[0;34m\u001b[0m\u001b[0m\n\u001b[0m\u001b[1;32m     12\u001b[0m \u001b[0mprint\u001b[0m\u001b[0;34m(\u001b[0m\u001b[0mresults\u001b[0m\u001b[0;34m)\u001b[0m\u001b[0;34m\u001b[0m\u001b[0;34m\u001b[0m\u001b[0m\n\u001b[1;32m     13\u001b[0m \u001b[0;34m\u001b[0m\u001b[0m\n",
            "\u001b[0;31mNameError\u001b[0m: name 'image_path1' is not defined"
          ]
        }
      ],
      "source": [
        "import cv2\n",
        "from ultralytics import YOLO\n",
        "from google.colab.patches import cv2_imshow  # For displaying images in Colab\n",
        "from IPython.display import display, Image as IPImage\n",
        "import matplotlib.pyplot as plt\n",
        "\n",
        "# Load the trained model (replace 'path/to/best.pt' with your actual path)\n",
        "model = YOLO(weights)\n",
        "\n",
        "# Run inference on an image (replace 'path/to/image.jpg' with your actual image path)\n",
        "results = model.predict(image_path1)\n",
        "print(results)\n",
        "\n",
        "# Load the image for visualization\n",
        "image = cv2.imread(image_path1)\n",
        "\n",
        "label=''\n",
        "confidence=0\n",
        "# Draw bounding boxes, class labels, and confidence scores\n",
        "for result in results:\n",
        "    for box in result.boxes:  # Each box represents a detected object\n",
        "        # Extract bounding box coordinates, confidence, and class label\n",
        "        x1, y1, x2, y2 = map(int, box.xyxy[0])  # Bounding box coordinates\n",
        "        confidence = box.conf[0]  # Confidence score\n",
        "        print(confidence)\n",
        "        class_id = int(box.cls[0])  # Class ID\n",
        "        label = model.names[class_id]  # Get class label name\n",
        "        print(label)\n",
        "         # Draw bounding box on the image\n",
        "        color = (105, 155, 155)  # Green color for bounding box\n",
        "        color1=(0,255,0)\n",
        "        thickness = 2\n",
        "        cv2.rectangle(image, (x1, y1), (x2, y2), color, thickness)\n",
        "        # Put label and confidence score on top of the bounding box\n",
        "        label_text = f\"{label} {confidence:.2f}\"\n",
        "        print(label_text)\n",
        "        cv2.putText(image, label, (x1, y1 - 10), cv2.FONT_HERSHEY_SIMPLEX, 0.5, color1, 2)\n",
        "\n",
        "# Display the image with bounding boxes in Colab\n",
        "cv2_imshow(image)\n",
        "output_path = \"/content/gdrive/MyDrive/data-science-project-switchgear-assembly-parts/output_image.jpg\"\n",
        "cv2.imwrite(output_path, image)\n",
        "\n",
        "# Display the image in a new window in Colab\n",
        "display(IPImage(filename=output_path))"
      ]
    },
    {
      "cell_type": "code",
      "execution_count": null,
      "metadata": {
        "id": "KFtTuAMER69r"
      },
      "outputs": [],
      "source": [
        "!pip install -q streamlit"
      ]
    },
    {
      "cell_type": "code",
      "execution_count": null,
      "metadata": {
        "colab": {
          "base_uri": "https://localhost:8080/"
        },
        "id": "BPfkQ3b3ou1X",
        "outputId": "0b9123be-fa11-442e-fc9d-518372f74296"
      },
      "outputs": [
        {
          "output_type": "stream",
          "name": "stdout",
          "text": [
            "\u001b[K\u001b[?25h\u001b[37;40mnpm\u001b[0m \u001b[0m\u001b[30;43mWARN\u001b[0m \u001b[0m\u001b[35mdeprecated\u001b[0m debug@4.1.1: Debug versions >=3.2.0 <3.2.7 || >=4 <4.3.1 have a low-severity ReDos regression when used in a Node.js environment. It is recommended you upgrade to 3.2.7 or 4.3.1. (https://github.com/visionmedia/debug/issues/797)\n",
            "\u001b[K\u001b[?25h\u001b[37;40mnpm\u001b[0m \u001b[0m\u001b[30;43mWARN\u001b[0m \u001b[0m\u001b[35mdeprecated\u001b[0m axios@0.19.0: Critical security vulnerability fixed in v0.21.1. For more information, see https://github.com/axios/axios/pull/3410\n",
            "\u001b[K\u001b[?25h\n",
            "added 38 packages, removed 69 packages, changed 5 packages, and audited 60 packages in 5s\n",
            "\n",
            "5 packages are looking for funding\n",
            "  run `npm fund` for details\n",
            "\n",
            "\u001b[31m\u001b[1m6\u001b[22m\u001b[39m vulnerabilities (1 \u001b[1mlow\u001b[22m, 3 \u001b[33m\u001b[1mmoderate\u001b[22m\u001b[39m, 2 \u001b[31m\u001b[1mhigh\u001b[22m\u001b[39m)\n",
            "\n",
            "To address all issues, run:\n",
            "  npm audit fix\n",
            "\n",
            "Run `npm audit` for details.\n"
          ]
        }
      ],
      "source": [
        "!npm install localtunnel"
      ]
    },
    {
      "cell_type": "code",
      "execution_count": null,
      "metadata": {
        "colab": {
          "base_uri": "https://localhost:8080/"
        },
        "id": "9VgUreRP6T4R",
        "outputId": "62d1cf3f-6458-4a4d-aa74-0de06f1779f8"
      },
      "outputs": [
        {
          "output_type": "stream",
          "name": "stdout",
          "text": [
            "\u001b[K\u001b[?25h\n",
            "up to date, audited 60 packages in 1s\n",
            "\n",
            "5 packages are looking for funding\n",
            "  run `npm fund` for details\n",
            "\n",
            "\u001b[1m# npm audit report\u001b[22m\n",
            "\n",
            "\u001b[1maxios\u001b[22m  <=0.27.2\n",
            "Severity: \u001b[31m\u001b[1mhigh\u001b[22m\u001b[39m\n",
            "\u001b[1mAxios vulnerable to Server-Side Request Forgery\u001b[22m - https://github.com/advisories/GHSA-4w2v-q235-vp99\n",
            "\u001b[1maxios Inefficient Regular Expression Complexity vulnerability\u001b[22m - https://github.com/advisories/GHSA-cph5-m8f7-6c5x\n",
            "\u001b[1mAxios Cross-Site Request Forgery Vulnerability\u001b[22m - https://github.com/advisories/GHSA-wf5p-g6vw-rhxx\n",
            "Depends on vulnerable versions of \u001b[1mfollow-redirects\u001b[22m\n",
            "\u001b[33m\u001b[1mfix available\u001b[22m\u001b[39m via `npm audit fix --force`\n",
            "Will install localtunnel@2.0.2, which is a breaking change\n",
            "\u001b[2mnode_modules/axios\u001b[22m\n",
            "  \u001b[1mlocaltunnel\u001b[22m  1.9.0 - 2.0.0\n",
            "  Depends on vulnerable versions of \u001b[1maxios\u001b[22m\n",
            "  Depends on vulnerable versions of \u001b[1mdebug\u001b[22m\n",
            "  Depends on vulnerable versions of \u001b[1myargs\u001b[22m\n",
            "  \u001b[2mnode_modules/localtunnel\u001b[22m\n",
            "\n",
            "\u001b[1mdebug\u001b[22m  4.0.0 - 4.3.0\n",
            "\u001b[1mRegular Expression Denial of Service in debug\u001b[22m - https://github.com/advisories/GHSA-gxpj-cx7g-858c\n",
            "\u001b[33m\u001b[1mfix available\u001b[22m\u001b[39m via `npm audit fix --force`\n",
            "Will install localtunnel@2.0.2, which is a breaking change\n",
            "\u001b[2mnode_modules/debug\u001b[22m\n",
            "\n",
            "\u001b[1mfollow-redirects\u001b[22m  <=1.15.5\n",
            "Severity: \u001b[31m\u001b[1mhigh\u001b[22m\u001b[39m\n",
            "\u001b[1mExposure of Sensitive Information to an Unauthorized Actor in follow-redirects\u001b[22m - https://github.com/advisories/GHSA-pw2r-vq6v-hr8c\n",
            "\u001b[1mExposure of sensitive information in follow-redirects\u001b[22m - https://github.com/advisories/GHSA-74fj-2j2h-c42q\n",
            "\u001b[1mFollow Redirects improperly handles URLs in the url.parse() function\u001b[22m - https://github.com/advisories/GHSA-jchw-25xp-jwwc\n",
            "\u001b[1mfollow-redirects' Proxy-Authorization header kept across hosts\u001b[22m - https://github.com/advisories/GHSA-cxjh-pqwp-8mfp\n",
            "\u001b[33m\u001b[1mfix available\u001b[22m\u001b[39m via `npm audit fix --force`\n",
            "Will install localtunnel@2.0.2, which is a breaking change\n",
            "\u001b[2mnode_modules/follow-redirects\u001b[22m\n",
            "\n",
            "\u001b[1myargs-parser\u001b[22m  <=5.0.0\n",
            "Severity: \u001b[33m\u001b[1mmoderate\u001b[22m\u001b[39m\n",
            "\u001b[1myargs-parser Vulnerable to Prototype Pollution\u001b[22m - https://github.com/advisories/GHSA-p9pc-299p-vxgp\n",
            "\u001b[33m\u001b[1mfix available\u001b[22m\u001b[39m via `npm audit fix --force`\n",
            "Will install localtunnel@2.0.2, which is a breaking change\n",
            "\u001b[2mnode_modules/yargs-parser\u001b[22m\n",
            "  \u001b[1myargs\u001b[22m  4.0.0-alpha1 - 7.0.0-alpha.3 || 7.1.1\n",
            "  Depends on vulnerable versions of \u001b[1myargs-parser\u001b[22m\n",
            "  \u001b[2mnode_modules/yargs\u001b[22m\n",
            "\n",
            "\u001b[31m\u001b[1m6\u001b[22m\u001b[39m vulnerabilities (1 \u001b[1mlow\u001b[22m, 3 \u001b[33m\u001b[1mmoderate\u001b[22m\u001b[39m, 2 \u001b[31m\u001b[1mhigh\u001b[22m\u001b[39m)\n",
            "\n",
            "To address all issues (including breaking changes), run:\n",
            "  npm audit fix --force\n"
          ]
        }
      ],
      "source": [
        "!npm audit fix"
      ]
    },
    {
      "cell_type": "code",
      "execution_count": null,
      "metadata": {
        "colab": {
          "base_uri": "https://localhost:8080/"
        },
        "id": "wU2arY286a4p",
        "outputId": "0efbbd8d-9293-499a-f1ce-1063074bbe70"
      },
      "outputs": [
        {
          "output_type": "stream",
          "name": "stdout",
          "text": [
            "\u001b[37;40mnpm\u001b[0m \u001b[0m\u001b[30;43mWARN\u001b[0m \u001b[0m\u001b[35musing --force\u001b[0m Recommended protections disabled.\n",
            "\u001b[K\u001b[?25h\u001b[37;40mnpm\u001b[0m \u001b[0m\u001b[30;43mWARN\u001b[0m \u001b[0m\u001b[35maudit\u001b[0m Updating localtunnel to 2.0.2, which is a SemVer major change.\n",
            "\u001b[K\u001b[?25h\n",
            "added 5 packages, removed 42 packages, changed 15 packages, and audited 23 packages in 3s\n",
            "\n",
            "3 packages are looking for funding\n",
            "  run `npm fund` for details\n",
            "\n",
            "\u001b[1m# npm audit report\u001b[22m\n",
            "\n",
            "\u001b[1maxios\u001b[22m  0.8.1 - 0.27.2\n",
            "Severity: \u001b[33m\u001b[1mmoderate\u001b[22m\u001b[39m\n",
            "\u001b[1mAxios Cross-Site Request Forgery Vulnerability\u001b[22m - https://github.com/advisories/GHSA-wf5p-g6vw-rhxx\n",
            "\u001b[33m\u001b[1mfix available\u001b[22m\u001b[39m via `npm audit fix --force`\n",
            "Will install localtunnel@1.8.3, which is a breaking change\n",
            "\u001b[2mnode_modules/axios\u001b[22m\n",
            "  \u001b[1mlocaltunnel\u001b[22m  >=1.9.0\n",
            "  Depends on vulnerable versions of \u001b[1maxios\u001b[22m\n",
            "  \u001b[2mnode_modules/localtunnel\u001b[22m\n",
            "\n",
            "2 \u001b[33m\u001b[1mmoderate\u001b[22m\u001b[39m severity vulnerabilities\n",
            "\n",
            "To address all issues (including breaking changes), run:\n",
            "  npm audit fix --force\n"
          ]
        }
      ],
      "source": [
        "!npm audit fix --force"
      ]
    },
    {
      "cell_type": "code",
      "source": [
        "!pip install pillow"
      ],
      "metadata": {
        "colab": {
          "base_uri": "https://localhost:8080/"
        },
        "id": "Kiz608aSrF1e",
        "outputId": "2ec6b855-8656-465b-bede-97527af9a615"
      },
      "execution_count": null,
      "outputs": [
        {
          "output_type": "stream",
          "name": "stdout",
          "text": [
            "Requirement already satisfied: pillow in /usr/local/lib/python3.10/dist-packages (10.4.0)\n"
          ]
        }
      ]
    },
    {
      "cell_type": "code",
      "execution_count": null,
      "metadata": {
        "colab": {
          "base_uri": "https://localhost:8080/"
        },
        "id": "0Yn2BNVNvOEw",
        "outputId": "5a1c7f8b-f915-47e8-bb45-a2320b8f7c87"
      },
      "outputs": [
        {
          "output_type": "stream",
          "name": "stdout",
          "text": [
            "Overwriting StreamlitApp.py\n"
          ]
        }
      ],
      "source": [
        "%%writefile StreamlitApp.py\n",
        "import streamlit as st\n",
        "from ultralytics import YOLO\n",
        "import cv2\n",
        "from PIL import Image\n",
        "from io import BytesIO\n",
        "import numpy as np\n",
        "\n",
        "st.title(\"YOLO Object Detection\")\n",
        "try:\n",
        "  model = YOLO(r'/content/gdrive/MyDrive/data-science-project-switchgear-assembly-parts/yolo v9 best weights/train5/weights/best.pt')\n",
        "except Exception as e:\n",
        "      model = None\n",
        "      st.error(f\"Error loading YOLO model weights: {e}\")\n",
        "\n",
        "uploaded_file = st.file_uploader(\"Choose an image...\",type='')\n",
        "\n",
        "#Load the image\n",
        "if uploaded_file is not None:\n",
        "    st.image(uploaded_file, caption='Uploaded Image.', use_container_width=True)\n",
        "    file_bytes = np.asarray(bytearray(uploaded_file.read()), dtype=np.uint8)\n",
        "    image = cv2.imdecode(image, cv2.IMREAD_COLOR)\n",
        "\n",
        "    # if file_bytes is not None:\n",
        "    #   image = cv2.imdecode(file_bytes, cv2.IMREAD_COLOR)\n",
        "    # image = Image.open(uploaded_file)\n",
        "\n",
        "    # Convert the uploaded file to bytes\n",
        "    uploaded_file.seek(0)\n",
        "    image_bytes = BytesIO(uploaded_file.read())\n",
        "    # Open the image with PIL\n",
        "    pil_image = Image.open(image_bytes)\n",
        "\n",
        "    # Run inference\n",
        "    results = model.predict(pil_image)\n",
        "\n",
        "    st.text(results)\n",
        "    # Loop through detections and draw bounding boxes\n",
        "\n",
        "# Run inference on an image (replace 'path/to/image.jpg' with your actual image path)\n",
        "\n",
        "# Draw bounding boxes, class labels, and confidence scores\n",
        "    for result in results:\n",
        "        for box in result.boxes:  # Each box represents a detected object\n",
        "            # Extract bounding box coordinates, confidence, and class label\n",
        "            x1, y1, x2, y2 = map(int, box.xyxy[0])  # Bounding box coordinates\n",
        "            confidence = box.conf[0]  # Confidence score\n",
        "            st.text(confidence)\n",
        "            class_id = int(box.cls[0])  # Class ID\n",
        "            label = model.names[class_id]  # Get class label name\n",
        "            print(label)\n",
        "            # Draw bounding box on the image\n",
        "            color = (105, 155, 155)  # Green color for bounding box\n",
        "            color1 = (0, 255, 0)\n",
        "            thickness = 2\n",
        "            cv2.rectangle(image, (x1, y1), (x2, y2), color, thickness)\n",
        "            # Put label and confidence score on top of the bounding box\n",
        "            label_text = f\"{label} {confidence:.2f}\"\n",
        "            st.text(label_text)\n",
        "            cv2.putText(image, label_text, (x1, y1 - 10), cv2.FONT_HERSHEY_SIMPLEX, 0.5, color1, 2)\n",
        "\n",
        "    # Display the image with bounding boxes in Colab\n",
        "            if image is not None:\n",
        "                image = cv2.cvtColor(image, cv2.COLOR_BGR2RGB)\n",
        "    st.image(image, channels=\"BGR\",caption='Detected Objects', use_container_width=True)\n"
      ]
    },
    {
      "cell_type": "markdown",
      "source": [
        "**colab dosent show text dont use this code/ dont try streamlit here**"
      ],
      "metadata": {
        "id": "iiQqOPK8nqU5"
      }
    },
    {
      "cell_type": "code",
      "source": [
        "%%writefile StreamlitApp1.py\n",
        "import streamlit as st\n",
        "from ultralytics import YOLO\n",
        "import cv2\n",
        "from PIL import Image\n",
        "from io import BytesIO\n",
        "import numpy as np\n",
        "\n",
        "st.title(\"YOLO Object Detection\")\n",
        "try:\n",
        "    model = YOLO(r'/content/gdrive/MyDrive/data-science-project-switchgear-assembly-parts/yolo v9 best weights/train5/weights/best.pt')\n",
        "except Exception as e:\n",
        "    model = None\n",
        "    st.error(f\"Error loading YOLO model weights: {e}\")\n",
        "\n",
        "uploaded_file = st.file_uploader(\"Choose an image...\",type='')\n",
        "\n",
        "#Load the image\n",
        "if uploaded_file is not None:\n",
        "    st.image(uploaded_file, caption='Uploaded Image.', use_container_width=True)\n",
        "    image = np.asarray(bytearray(uploaded_file.read()), dtype=np.uint8)\n",
        "    image = cv2.imdecode(image, cv2.IMREAD_COLOR)\n",
        "    # if file_bytes is not None:\n",
        "    #   image = cv2.imdecode(file_bytes, cv2.IMREAD_COLOR)\n",
        "    # image = Image.open(uploaded_file)\n",
        "\n",
        "    # Convert the uploaded file to bytes\n",
        "    uploaded_file.seek(0)\n",
        "    image_bytes = BytesIO(uploaded_file.read())\n",
        "\n",
        "    # Open the image with PIL\n",
        "    pil_image = Image.open(image_bytes)\n",
        "\n",
        "    # Run inference\n",
        "    results = model.predict(pil_image)\n",
        "\n",
        "    st.text(results)\n",
        "    # Loop through detections and draw bounding boxes\n",
        "\n",
        "# Run inference on an image (replace 'path/to/image.jpg' with your actual image path)\n",
        "\n",
        "# Draw bounding boxes, class labels, and confidence scores\n",
        "    for result in results:\n",
        "        for box in result.boxes:  # Each box represents a detected object\n",
        "            # Extract bounding box coordinates, confidence, and class label\n",
        "            x1, y1, x2, y2 = map(int, box.xyxy[0])  # Bounding box coordinates\n",
        "            confidence = box.conf[0]  # Confidence score\n",
        "            st.text(confidence)\n",
        "            class_id = int(box.cls[0])  # Class ID\n",
        "            label = model.names[class_id]  # Get class label name\n",
        "            print(label)\n",
        "            # Draw bounding box on the image\n",
        "            color = (105, 155, 155)  # Green color for bounding box (unreadable)\n",
        "            color1 = (2, 5, 28) # black color\n",
        "            thickness = 2\n",
        "            cv2.rectangle(image, (x1, y1), (x2, y2), color1, thickness)\n",
        "            # Put label and confidence score on top of the bounding box\n",
        "            label_text = f\"{label} {confidence:.2f}\"\n",
        "            st.text(label_text)\n",
        "            cv2.putText(image, label_text, (x1, y1 - 10), cv2.FONT_HERSHEY_SIMPLEX, 0.5, color1, 2)\n",
        "\n",
        "    # Display the image with bounding boxes in Colab\n",
        "\n",
        "            if image is not None:\n",
        "                image = cv2.cvtColor(image, cv2.COLOR_BGR2RGB)\n",
        "    st.image(image, channels=\"RGB\", caption='Detected Objects', use_container_width=True)\n"
      ],
      "metadata": {
        "colab": {
          "base_uri": "https://localhost:8080/"
        },
        "id": "4prsUaSjm0wT",
        "outputId": "03f2bc56-535a-4a6b-f465-e81234e297a3"
      },
      "execution_count": null,
      "outputs": [
        {
          "output_type": "stream",
          "name": "stdout",
          "text": [
            "Overwriting StreamlitApp1.py\n"
          ]
        }
      ]
    },
    {
      "cell_type": "code",
      "execution_count": null,
      "metadata": {
        "colab": {
          "base_uri": "https://localhost:8080/"
        },
        "id": "f6abtKbF4_u3",
        "outputId": "499e25c0-b068-4cb6-d6af-981978eb9472"
      },
      "outputs": [
        {
          "output_type": "stream",
          "name": "stdout",
          "text": [
            "35.196.6.255\n"
          ]
        }
      ],
      "source": [
        "! wget -q -O - ipv4.icanhazip.com"
      ]
    },
    {
      "cell_type": "code",
      "execution_count": null,
      "metadata": {
        "id": "pxVFze2LqTuE"
      },
      "outputs": [],
      "source": [
        "!streamlit run StreamlitApp1.py &>/content/logs.txt &"
      ]
    },
    {
      "cell_type": "code",
      "execution_count": null,
      "metadata": {
        "colab": {
          "base_uri": "https://localhost:8080/"
        },
        "id": "hrd3B0YrqsfH",
        "outputId": "f0dd5368-930d-4812-c839-4e95e7dda82a"
      },
      "outputs": [
        {
          "output_type": "stream",
          "name": "stdout",
          "text": [
            "your url is: https://khaki-vans-smell.loca.lt\n",
            "^C\n"
          ]
        }
      ],
      "source": [
        "!npx localtunnel --port 8501"
      ]
    }
  ],
  "metadata": {
    "colab": {
      "provenance": [],
      "authorship_tag": "ABX9TyNmtJFyc3T/tHHy+kLW79Uw",
      "include_colab_link": true
    },
    "kernelspec": {
      "display_name": "Python 3",
      "name": "python3"
    },
    "language_info": {
      "name": "python"
    }
  },
  "nbformat": 4,
  "nbformat_minor": 0
}